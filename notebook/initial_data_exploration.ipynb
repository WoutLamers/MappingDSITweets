{
 "cells": [
  {
   "cell_type": "code",
   "execution_count": 1,
   "metadata": {},
   "outputs": [],
   "source": [
    "import pandas as pd\n",
    "import networkx as nx"
   ]
  },
  {
   "cell_type": "code",
   "execution_count": 2,
   "metadata": {},
   "outputs": [],
   "source": [
    "df = pd.read_json('C:/Users/lamersws1/Documents/Data/firstdata.json')"
   ]
  },
  {
   "cell_type": "code",
   "execution_count": 3,
   "metadata": {},
   "outputs": [
    {
     "data": {
      "text/html": [
       "<div>\n",
       "<style scoped>\n",
       "    .dataframe tbody tr th:only-of-type {\n",
       "        vertical-align: middle;\n",
       "    }\n",
       "\n",
       "    .dataframe tbody tr th {\n",
       "        vertical-align: top;\n",
       "    }\n",
       "\n",
       "    .dataframe thead th {\n",
       "        text-align: right;\n",
       "    }\n",
       "</style>\n",
       "<table border=\"1\" class=\"dataframe\">\n",
       "  <thead>\n",
       "    <tr style=\"text-align: right;\">\n",
       "      <th></th>\n",
       "      <th>index</th>\n",
       "      <th>coordinates</th>\n",
       "      <th>created_at</th>\n",
       "      <th>user</th>\n",
       "      <th>timestamp_ms</th>\n",
       "      <th>text</th>\n",
       "      <th>retweet_count</th>\n",
       "      <th>retweeted_status</th>\n",
       "      <th>reply_count</th>\n",
       "      <th>entities</th>\n",
       "    </tr>\n",
       "  </thead>\n",
       "  <tbody>\n",
       "    <tr>\n",
       "      <th>0</th>\n",
       "      <td>0</td>\n",
       "      <td>None</td>\n",
       "      <td>2018-05-25 15:03:49</td>\n",
       "      <td>{'id': 2516920201, 'id_str': '2516920201', 'na...</td>\n",
       "      <td>2018-05-25 15:03:49.562</td>\n",
       "      <td>??? https://t.co/es4daoZHSf</td>\n",
       "      <td>0.0</td>\n",
       "      <td>None</td>\n",
       "      <td>0.0</td>\n",
       "      <td>{'hashtags': [], 'urls': [{'url': 'https://t.c...</td>\n",
       "    </tr>\n",
       "    <tr>\n",
       "      <th>1</th>\n",
       "      <td>1</td>\n",
       "      <td>None</td>\n",
       "      <td>2018-05-25 15:03:53</td>\n",
       "      <td>{'id': 2682920203, 'id_str': '2682920203', 'na...</td>\n",
       "      <td>2018-05-25 15:03:53.259</td>\n",
       "      <td>#Hipismo Chuvi jimenez también es hipismo y ya...</td>\n",
       "      <td>0.0</td>\n",
       "      <td>None</td>\n",
       "      <td>0.0</td>\n",
       "      <td>{'hashtags': [{'text': 'Hipismo', 'indices': [...</td>\n",
       "    </tr>\n",
       "    <tr>\n",
       "      <th>10</th>\n",
       "      <td>10</td>\n",
       "      <td>None</td>\n",
       "      <td>2018-05-25 15:04:04</td>\n",
       "      <td>{'id': 734197130, 'id_str': '734197130', 'name...</td>\n",
       "      <td>2018-05-25 15:04:04.847</td>\n",
       "      <td>@AaronHawryluk @elonmusk You didn't even let h...</td>\n",
       "      <td>0.0</td>\n",
       "      <td>None</td>\n",
       "      <td>0.0</td>\n",
       "      <td>{'hashtags': [], 'urls': [{'url': 'https://t.c...</td>\n",
       "    </tr>\n",
       "    <tr>\n",
       "      <th>100</th>\n",
       "      <td>100</td>\n",
       "      <td>None</td>\n",
       "      <td>2018-05-25 15:08:26</td>\n",
       "      <td>{'id': 387019950, 'id_str': '387019950', 'name...</td>\n",
       "      <td>2018-05-25 15:08:26.309</td>\n",
       "      <td>RT @EYFrance: C’est parti pour le talk sur le ...</td>\n",
       "      <td>0.0</td>\n",
       "      <td>{'created_at': 'Fri May 25 13:47:53 +0000 2018...</td>\n",
       "      <td>0.0</td>\n",
       "      <td>{'hashtags': [{'text': 'VivaTech', 'indices': ...</td>\n",
       "    </tr>\n",
       "    <tr>\n",
       "      <th>1000</th>\n",
       "      <td>1000</td>\n",
       "      <td>None</td>\n",
       "      <td>2018-05-25 15:46:24</td>\n",
       "      <td>{'id': 1004141089, 'id_str': '1004141089', 'na...</td>\n",
       "      <td>2018-05-25 15:46:24.481</td>\n",
       "      <td>The New Frontier of Fundraising: An Insider’s ...</td>\n",
       "      <td>0.0</td>\n",
       "      <td>None</td>\n",
       "      <td>0.0</td>\n",
       "      <td>{'hashtags': [{'text': 'fundraising', 'indices...</td>\n",
       "    </tr>\n",
       "  </tbody>\n",
       "</table>\n",
       "</div>"
      ],
      "text/plain": [
       "      index                        ...                                                                   entities\n",
       "0         0                        ...                          {'hashtags': [], 'urls': [{'url': 'https://t.c...\n",
       "1         1                        ...                          {'hashtags': [{'text': 'Hipismo', 'indices': [...\n",
       "10       10                        ...                          {'hashtags': [], 'urls': [{'url': 'https://t.c...\n",
       "100     100                        ...                          {'hashtags': [{'text': 'VivaTech', 'indices': ...\n",
       "1000   1000                        ...                          {'hashtags': [{'text': 'fundraising', 'indices...\n",
       "\n",
       "[5 rows x 10 columns]"
      ]
     },
     "execution_count": 3,
     "metadata": {},
     "output_type": "execute_result"
    }
   ],
   "source": [
    "df.head()"
   ]
  },
  {
   "cell_type": "markdown",
   "metadata": {},
   "source": [
    "Explore available collumns"
   ]
  },
  {
   "cell_type": "code",
   "execution_count": 4,
   "metadata": {},
   "outputs": [
    {
     "data": {
      "text/plain": [
       "['index',\n",
       " 'coordinates',\n",
       " 'created_at',\n",
       " 'user',\n",
       " 'timestamp_ms',\n",
       " 'text',\n",
       " 'retweet_count',\n",
       " 'retweeted_status',\n",
       " 'reply_count',\n",
       " 'entities']"
      ]
     },
     "execution_count": 4,
     "metadata": {},
     "output_type": "execute_result"
    }
   ],
   "source": [
    "list(df)"
   ]
  },
  {
   "cell_type": "code",
   "execution_count": 5,
   "metadata": {
    "scrolled": true
   },
   "outputs": [
    {
     "data": {
      "text/html": [
       "<div>\n",
       "<style scoped>\n",
       "    .dataframe tbody tr th:only-of-type {\n",
       "        vertical-align: middle;\n",
       "    }\n",
       "\n",
       "    .dataframe tbody tr th {\n",
       "        vertical-align: top;\n",
       "    }\n",
       "\n",
       "    .dataframe thead th {\n",
       "        text-align: right;\n",
       "    }\n",
       "</style>\n",
       "<table border=\"1\" class=\"dataframe\">\n",
       "  <thead>\n",
       "    <tr style=\"text-align: right;\">\n",
       "      <th></th>\n",
       "      <th>index</th>\n",
       "      <th>retweet_count</th>\n",
       "      <th>reply_count</th>\n",
       "    </tr>\n",
       "  </thead>\n",
       "  <tbody>\n",
       "    <tr>\n",
       "      <th>count</th>\n",
       "      <td>150000.000000</td>\n",
       "      <td>149999.0</td>\n",
       "      <td>149999.0</td>\n",
       "    </tr>\n",
       "    <tr>\n",
       "      <th>mean</th>\n",
       "      <td>4999.500000</td>\n",
       "      <td>0.0</td>\n",
       "      <td>0.0</td>\n",
       "    </tr>\n",
       "    <tr>\n",
       "      <th>std</th>\n",
       "      <td>2886.760954</td>\n",
       "      <td>0.0</td>\n",
       "      <td>0.0</td>\n",
       "    </tr>\n",
       "    <tr>\n",
       "      <th>min</th>\n",
       "      <td>0.000000</td>\n",
       "      <td>0.0</td>\n",
       "      <td>0.0</td>\n",
       "    </tr>\n",
       "    <tr>\n",
       "      <th>25%</th>\n",
       "      <td>2499.750000</td>\n",
       "      <td>0.0</td>\n",
       "      <td>0.0</td>\n",
       "    </tr>\n",
       "    <tr>\n",
       "      <th>50%</th>\n",
       "      <td>4999.500000</td>\n",
       "      <td>0.0</td>\n",
       "      <td>0.0</td>\n",
       "    </tr>\n",
       "    <tr>\n",
       "      <th>75%</th>\n",
       "      <td>7499.250000</td>\n",
       "      <td>0.0</td>\n",
       "      <td>0.0</td>\n",
       "    </tr>\n",
       "    <tr>\n",
       "      <th>max</th>\n",
       "      <td>9999.000000</td>\n",
       "      <td>0.0</td>\n",
       "      <td>0.0</td>\n",
       "    </tr>\n",
       "  </tbody>\n",
       "</table>\n",
       "</div>"
      ],
      "text/plain": [
       "               index  retweet_count  reply_count\n",
       "count  150000.000000       149999.0     149999.0\n",
       "mean     4999.500000            0.0          0.0\n",
       "std      2886.760954            0.0          0.0\n",
       "min         0.000000            0.0          0.0\n",
       "25%      2499.750000            0.0          0.0\n",
       "50%      4999.500000            0.0          0.0\n",
       "75%      7499.250000            0.0          0.0\n",
       "max      9999.000000            0.0          0.0"
      ]
     },
     "execution_count": 5,
     "metadata": {},
     "output_type": "execute_result"
    }
   ],
   "source": [
    "df.describe()"
   ]
  },
  {
   "cell_type": "code",
   "execution_count": null,
   "metadata": {},
   "outputs": [],
   "source": []
  },
  {
   "cell_type": "markdown",
   "metadata": {},
   "source": [
    "Let's look at hashtags"
   ]
  },
  {
   "cell_type": "code",
   "execution_count": 6,
   "metadata": {},
   "outputs": [
    {
     "data": {
      "text/html": [
       "<div>\n",
       "<style scoped>\n",
       "    .dataframe tbody tr th:only-of-type {\n",
       "        vertical-align: middle;\n",
       "    }\n",
       "\n",
       "    .dataframe tbody tr th {\n",
       "        vertical-align: top;\n",
       "    }\n",
       "\n",
       "    .dataframe thead th {\n",
       "        text-align: right;\n",
       "    }\n",
       "</style>\n",
       "<table border=\"1\" class=\"dataframe\">\n",
       "  <thead>\n",
       "    <tr style=\"text-align: right;\">\n",
       "      <th></th>\n",
       "      <th>index</th>\n",
       "      <th>coordinates</th>\n",
       "      <th>created_at</th>\n",
       "      <th>user</th>\n",
       "      <th>timestamp_ms</th>\n",
       "      <th>text</th>\n",
       "      <th>retweet_count</th>\n",
       "      <th>retweeted_status</th>\n",
       "      <th>reply_count</th>\n",
       "      <th>entities</th>\n",
       "    </tr>\n",
       "  </thead>\n",
       "  <tbody>\n",
       "    <tr>\n",
       "      <th>3758</th>\n",
       "      <td>3758</td>\n",
       "      <td>None</td>\n",
       "      <td>NaT</td>\n",
       "      <td>None</td>\n",
       "      <td>NaT</td>\n",
       "      <td>None</td>\n",
       "      <td>NaN</td>\n",
       "      <td>None</td>\n",
       "      <td>NaN</td>\n",
       "      <td>None</td>\n",
       "    </tr>\n",
       "  </tbody>\n",
       "</table>\n",
       "</div>"
      ],
      "text/plain": [
       "      index coordinates   ...    reply_count entities\n",
       "3758   3758        None   ...            NaN     None\n",
       "\n",
       "[1 rows x 10 columns]"
      ]
     },
     "execution_count": 6,
     "metadata": {},
     "output_type": "execute_result"
    }
   ],
   "source": [
    "df[df['entities'].isnull()]"
   ]
  },
  {
   "cell_type": "markdown",
   "metadata": {},
   "source": [
    "Remove this useless record from the data"
   ]
  },
  {
   "cell_type": "code",
   "execution_count": null,
   "metadata": {},
   "outputs": [],
   "source": [
    "df = df[df['entities'].isnull() == False]"
   ]
  },
  {
   "cell_type": "markdown",
   "metadata": {},
   "source": [
    "Let's look at the mentions network"
   ]
  },
  {
   "cell_type": "code",
   "execution_count": 7,
   "metadata": {},
   "outputs": [],
   "source": [
    "def extract_mentions(df):\n",
    "\n",
    "    out = []\n",
    "\n",
    "    for index, row in df.iterrows():\n",
    "\n",
    "        if isinstance(row.user, dict):\n",
    "        \n",
    "            assert isinstance(row.user, dict), \"user is not dict in {}\".format(index)\n",
    "            assert isinstance(row.entities, dict), \"entities is not dict in {}\".format(index)\n",
    "            usermentions = row.entities['user_mentions']\n",
    "\n",
    "            for u in usermentions:\n",
    "                out.append((row.user['id'], u['id']))\n",
    "    \n",
    "    return out"
   ]
  },
  {
   "cell_type": "code",
   "execution_count": 8,
   "metadata": {},
   "outputs": [],
   "source": [
    "mentions = extract_mentions(df)"
   ]
  },
  {
   "cell_type": "code",
   "execution_count": 9,
   "metadata": {},
   "outputs": [],
   "source": [
    "def extract_users(df):\n",
    "    \n",
    "    users = [(u['id'], u['screen_name'], u['name']) for u in df['user'] if isinstance(u, dict)]\n",
    "    users = list(set(users))\n",
    "    \n",
    "    user_mentions = [u['user_mentions'] for u in df['entities'] if isinstance(u, dict)]\n",
    "    for l in user_mentions:\n",
    "        for u in l:\n",
    "            users.append((u['id'], u['screen_name'], u['name']))\n",
    "        \n",
    "    users = list(set(users))\n",
    "    \n",
    "    users = {u[0]: {'name': u[2], 'screen_name': u[1]} for u in users}\n",
    "    \n",
    "    return users\n"
   ]
  },
  {
   "cell_type": "code",
   "execution_count": 10,
   "metadata": {},
   "outputs": [],
   "source": [
    "users = extract_users(df)"
   ]
  },
  {
   "cell_type": "code",
   "execution_count": 11,
   "metadata": {},
   "outputs": [],
   "source": [
    "G=nx.Graph()\n",
    "G.add_edges_from(mentions)\n",
    "nx.set_node_attributes(G, users)"
   ]
  },
  {
   "cell_type": "code",
   "execution_count": null,
   "metadata": {},
   "outputs": [],
   "source": []
  },
  {
   "cell_type": "code",
   "execution_count": 12,
   "metadata": {},
   "outputs": [],
   "source": [
    "Ggc = sorted(nx.connected_components(G), key=len, reverse=True)"
   ]
  },
  {
   "cell_type": "code",
   "execution_count": 16,
   "metadata": {},
   "outputs": [],
   "source": [
    "SG = G.subgraph(Ggc[0])\n",
    "top_connected_nodes = [x[0] for x in SG.degree() if x[1] > 50]\n",
    "SG = G.subgraph(top_connected_nodes)\n",
    "SG = SG.subgraph(sorted(nx.connected_components(SG), key=len, reverse=True)[0])"
   ]
  },
  {
   "cell_type": "code",
   "execution_count": 18,
   "metadata": {},
   "outputs": [
    {
     "data": {
      "text/plain": [
       "112"
      ]
     },
     "execution_count": 18,
     "metadata": {},
     "output_type": "execute_result"
    }
   ],
   "source": [
    "len(SG.nodes())"
   ]
  },
  {
   "cell_type": "code",
   "execution_count": 19,
   "metadata": {},
   "outputs": [
    {
     "name": "stderr",
     "output_type": "stream",
     "text": [
      "C:\\Users\\lamersws1\\AppData\\Local\\Continuum\\anaconda3\\lib\\site-packages\\networkx\\drawing\\nx_pylab.py:611: MatplotlibDeprecationWarning: isinstance(..., numbers.Number)\n",
      "  if cb.is_numlike(alpha):\n"
     ]
    },
    {
     "data": {
      "image/png": "[encoded data removed]",
      "text/plain": [
       "<Figure size 432x288 with 1 Axes>"
      ]
     },
     "metadata": {},
     "output_type": "display_data"
    }
   ],
   "source": [
    "nx.draw_networkx(SG)"
   ]
  },
  {
   "cell_type": "code",
   "execution_count": 20,
   "metadata": {},
   "outputs": [
    {
     "data": {
      "text/plain": [
       "NodeView((1002997262727839744, 1000739286206107649, 988310476173045760, 973897363491180544, 919676453347840001, 877788798687621121, 913187906440663040, 992547386047320071, 736185001457287169, 702542867227504640, 847492633463185410, 14335498, 905993768624472065, 989920160004833283, 2519044628, 2704548373, 19017255, 44196397, 290576429, 10228272, 9799222, 14627400, 1614411, 212325987, 2573880420, 296824934, 20571756, 14767730, 63786611, 14706299, 16838276, 14237828, 943123341824675841, 730509234614341633, 14285961, 4496967314, 40713876, 473958550, 17629860, 172621993, 4760694445, 1511340720, 2366194867, 3819701, 3191421627, 14998722, 64482503, 511740616, 4502885068, 1526345940, 1976143068, 115065053, 13334762, 339061487, 35203319, 1703007992, 19103481, 390167291, 3131243261, 1118579966, 722860459716534272, 209811713, 668423, 1051053836, 18994444, 361880334, 88776463, 27955989, 364547862, 15515420, 1449670430, 1413563167, 396451105, 323867425, 220826418, 33418037, 3227338044, 2425151, 11099982, 28785486, 20536157, 26346340, 634782060, 328415084, 336218991, 147808626, 3228602741, 901397859613978624, 759027937236643840, 704769925, 981031334201131008, 17484680, 1095841166, 254107028, 16589206, 336208792, 138966937, 4374719908, 66780587, 321575853, 145599406, 14425522, 2315512764, 80589255, 72030668, 4263007693, 74286565, 819185162546282496, 51049452, 380749300, 80528373, 72915446))"
      ]
     },
     "execution_count": 20,
     "metadata": {},
     "output_type": "execute_result"
    }
   ],
   "source": [
    "SG.nodes"
   ]
  },
  {
   "cell_type": "code",
   "execution_count": 21,
   "metadata": {},
   "outputs": [],
   "source": [
    "nx.write_graphml(SG,'so.graphml')"
   ]
  },
  {
   "cell_type": "code",
   "execution_count": 31,
   "metadata": {},
   "outputs": [
    {
     "data": {
      "text/plain": [
       "NodeDataView({1002997262727839744: {'name': 'movingtogitlab', 'screen_name': 'movingtogitlab'}, 1000739286206107649: {'name': 'EyeTheSpy', 'screen_name': 'EyeTheSpy'}, 988310476173045760: {'name': 'CC.EXE', 'screen_name': 'CC_CURATOR'}, 973897363491180544: {'name': 'Code For The People', 'screen_name': 'codeforthepeopl'}, 919676453347840001: {'name': 'OpenSource IT', 'screen_name': 'GitHubIT'}, 877788798687621121: {'name': 'Linux Environment', 'screen_name': 'linux_en'}, 913187906440663040: {'name': 'Deconet', 'screen_name': 'Deco_Network'}, 992547386047320071: {'name': 'Mario Falso', 'screen_name': 'mario_falso'}, 736185001457287169: {'name': 'Helene Li ??', 'screen_name': 'helene_wpli'}, 702542867227504640: {'name': 'Trump DBA', 'screen_name': 'TrumpDBA'}, 847492633463185410: {'name': 'SingularityU Canada', 'screen_name': 'SingularityUCan'}, 14335498: {'name': 'Hacker News', 'screen_name': 'newsycombinator'}, 905993768624472065: {'name': 'Java Technology', 'screen_name': 'java_tec'}, 989920160004833283: {'name': 'Bloqboard', 'screen_name': 'bloqboard'}, 2519044628: {'name': 'Aric Toler', 'screen_name': 'AricToler'}, 2704548373: {'name': 'NoSQL', 'screen_name': 'NoSQLDigest'}, 19017255: {'name': 'Ericsson', 'screen_name': 'ericsson'}, 44196397: {'name': 'Elon Musk', 'screen_name': 'elonmusk'}, 290576429: {'name': 'Municipalidad de Cba', 'screen_name': 'MuniCba'}, 10228272: {'name': 'YouTube', 'screen_name': 'YouTube'}, 9799222: {'name': 'linuxjournal', 'screen_name': 'linuxjournal'}, 14627400: {'name': 'Red Hat, Inc.', 'screen_name': 'RedHat'}, 1614411: {'name': 'Enrique Dans', 'screen_name': 'edans'}, 212325987: {'name': 'Aurélie JEAN, PhD', 'screen_name': 'Aurelie_JEAN'}, 2573880420: {'name': 'Uber Engineering', 'screen_name': 'UberEng'}, 296824934: {'name': 'Orange', 'screen_name': 'orange'}, 20571756: {'name': 'Satya Nadella', 'screen_name': 'satyanadella'}, 14767730: {'name': '?? Owen', 'screen_name': 'ow'}, 63786611: {'name': 'Adobe', 'screen_name': 'Adobe'}, 14706299: {'name': 'The Linux Foundation', 'screen_name': 'linuxfoundation'}, 16838276: {'name': 'Phil Davis', 'screen_name': 'philstockworld'}, 14237828: {'name': 'MarleneSchiappa', 'screen_name': 'MarleneSchiappa'}, 943123341824675841: {'name': 'DigitalLadies', 'screen_name': 'digital_ladies'}, 730509234614341633: {'name': 'Balance', 'screen_name': 'Balance_io'}, 14285961: {'name': 'Richard Burton', 'screen_name': 'ricburton'}, 4496967314: {'name': 'GIS Sharer', 'screen_name': 'GIS_Sharer'}, 40713876: {'name': 'James Ball', 'screen_name': 'jamesrbuk'}, 473958550: {'name': 'Sparknews', 'screen_name': 'Sparknews'}, 17629860: {'name': 'FBI', 'screen_name': 'FBI'}, 172621993: {'name': 'Ivan Pavel', 'screen_name': 'maxcorpiz'}, 4760694445: {'name': 'The Ringer', 'screen_name': 'ringer'}, 1511340720: {'name': 'Alberto Solino', 'screen_name': 'agsolino'}, 2366194867: {'name': '18F', 'screen_name': '18F'}, 3819701: {'name': 'ZDNet', 'screen_name': 'ZDNet'}, 3191421627: {'name': 'TechSharer', 'screen_name': 'Tech_Sharer'}, 14998722: {'name': 'Iain Klugman', 'screen_name': 'iainklugman'}, 64482503: {'name': 'Code for America', 'screen_name': 'codeforamerica'}, 511740616: {'name': 'BIconnections', 'screen_name': 'biconnections'}, 4502885068: {'name': '#VivaTech', 'screen_name': 'VivaTech'}, 1526345940: {'name': 'Fundación Conocimiento Abierto', 'screen_name': 'OKFNAR'}, 1976143068: {'name': 'Emmanuel Macron', 'screen_name': 'EmmanuelMacron'}, 115065053: {'name': 'FlashTweet ??', 'screen_name': 'FlashTweet'}, 13334762: {'name': 'GitHub', 'screen_name': 'github'}, 339061487: {'name': 'Pomp ?', 'screen_name': 'APompliano'}, 35203319: {'name': 'Evan Kirstel', 'screen_name': 'evankirstel'}, 1703007992: {'name': 'Bill McDermott', 'screen_name': 'BillRMcDermott'}, 19103481: {'name': 'Uber', 'screen_name': 'Uber'}, 390167291: {'name': 'GitLab', 'screen_name': 'gitlab'}, 3131243261: {'name': 'Sally Eaves #CEBIT18', 'screen_name': 'sallyeaves'}, 1118579966: {'name': 'Nikhil Thorat', 'screen_name': 'nsthorat'}, 722860459716534272: {'name': 'Smart City Feed ?', 'screen_name': 'smartcityfeed'}, 209811713: {'name': 'The Hacker News', 'screen_name': 'TheHackersNews'}, 668423: {'name': 'Mikeal Rogers', 'screen_name': 'mikeal'}, 1051053836: {'name': 'Ripple', 'screen_name': 'Ripple'}, 18994444: {'name': 'IBM', 'screen_name': 'IBM'}, 361880334: {'name': 'Dominique Choisel', 'screen_name': 'DChoisel'}, 88776463: {'name': 'VideoLAN', 'screen_name': 'videolan'}, 27955989: {'name': 'BNP Paribas Group', 'screen_name': 'BNPParibas'}, 364547862: {'name': 'Snips', 'screen_name': 'snips'}, 15515420: {'name': 'Communitech', 'screen_name': 'Communitech'}, 1449670430: {'name': 'Sandrine Delage ??', 'screen_name': 'SANDDELA'}, 1413563167: {'name': 'ALTEC', 'screen_name': 'ALTEClat'}, 396451105: {'name': 'Adewale Abati ??', 'screen_name': 'Ace_KYD'}, 323867425: {'name': 'Ericsson Networks', 'screen_name': 'EricssonNetwork'}, 220826418: {'name': 'Ramón Mestre', 'screen_name': 'ramonjmestre'}, 33418037: {'name': 'RDS ®', 'screen_name': 'RDSWEB'}, 3227338044: {'name': 'Gatsby', 'screen_name': 'gatsbyjs'}, 2425151: {'name': 'Facebook', 'screen_name': 'facebook'}, 11099982: {'name': 'S. Vaughan-Nichols', 'screen_name': 'sjvn'}, 28785486: {'name': 'ABC News', 'screen_name': 'ABC'}, 20536157: {'name': 'Google', 'screen_name': 'Google'}, 26346340: {'name': 'Anthony Reinhart', 'screen_name': 'ajreinhart'}, 634782060: {'name': 'Shan He', 'screen_name': 'heshan_cheri'}, 328415084: {'name': 'Techfest, IIT Bombay', 'screen_name': 'Techfest_IITB'}, 336218991: {'name': 'Ford Foundation', 'screen_name': 'FordFoundation'}, 147808626: {'name': 'Ashish Goyal', 'screen_name': 'Ashygoyal'}, 3228602741: {'name': 'OpenLitterMap', 'screen_name': 'OpenLitterMap'}, 901397859613978624: {'name': 'Howdoo', 'screen_name': 'howdooHQ'}, 759027937236643840: {'name': 'Gobierno Abierto', 'screen_name': 'GobAbiertoCba'}, 704769925: {'name': 'Berhan Taye', 'screen_name': 'btayeg'}, 981031334201131008: {'name': 'FEST', 'screen_name': 'FEcoSocialeTech'}, 17484680: {'name': 'nixCraft: The Best Linux Blog In the Unixverse', 'screen_name': 'nixcraft'}, 1095841166: {'name': 'Aäron van den Oord', 'screen_name': 'avdnoord'}, 254107028: {'name': 'TensorFlow', 'screen_name': 'TensorFlow'}, 16589206: {'name': 'WikiLeaks', 'screen_name': 'wikileaks'}, 336208792: {'name': 'Marcelo Cossar', 'screen_name': 'cossarmarcelo'}, 138966937: {'name': 'Eren Niazi', 'screen_name': 'eren_niazi'}, 4374719908: {'name': 'Jean-Baptiste Lefevre', 'screen_name': 'jblefevre60'}, 66780587: {'name': 'Amazon Web Services', 'screen_name': 'awscloud'}, 321575853: {'name': 'Open Gov Partnership', 'screen_name': 'opengovpart'}, 145599406: {'name': 'Amsterdam JSNation', 'screen_name': 'amsterdamjs'}, 14425522: {'name': 'Sabrina Hersi Issa', 'screen_name': 'beingbrina'}, 2315512764: {'name': 'Bellingcat', 'screen_name': 'bellingcat'}, 80589255: {'name': 'Open Source Way', 'screen_name': 'opensourceway'}, 72030668: {'name': 'Gilles Louppe', 'screen_name': 'glouppe'}, 4263007693: {'name': 'Dr. GP Pulipaka', 'screen_name': 'gp_pulipaka'}, 74286565: {'name': 'Microsoft', 'screen_name': 'Microsoft'}, 819185162546282496: {'name': \"Scotland's OpenGov Network\", 'screen_name': 'opengovscot'}, 51049452: {'name': 'Filippo Valsorda', 'screen_name': 'FiloSottile'}, 380749300: {'name': 'Apple', 'screen_name': 'Apple'}, 80528373: {'name': 'Mounir Mahjoubi', 'screen_name': 'mounir'}, 72915446: {'name': 'OMG! UBUNTU!', 'screen_name': 'omgubuntu'}})"
      ]
     },
     "execution_count": 31,
     "metadata": {},
     "output_type": "execute_result"
    }
   ],
   "source": [
    "SG.nodes.data()"
   ]
  },
  {
   "cell_type": "code",
   "execution_count": null,
   "metadata": {},
   "outputs": [],
   "source": []
  }
 ],
 "metadata": {
  "kernelspec": {
   "display_name": "Python 3 (Spyder)",
   "language": "python3",
   "name": "python3"
  },
  "language_info": {
   "codemirror_mode": {
    "name": "ipython",
    "version": 3
   },
   "file_extension": ".py",
   "mimetype": "text/x-python",
   "name": "python",
   "nbconvert_exporter": "python",
   "pygments_lexer": "ipython3",
   "version": "3.6.7"
  }
 },
 "nbformat": 4,
 "nbformat_minor": 2
}
