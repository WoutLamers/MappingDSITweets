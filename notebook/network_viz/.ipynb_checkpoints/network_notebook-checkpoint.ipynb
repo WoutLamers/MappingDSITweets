{
 "cells": [
  {
   "cell_type": "code",
   "execution_count": 1,
   "metadata": {},
   "outputs": [],
   "source": [
    "import pandas as pd\n",
    "import networkx as nx"
   ]
  },
  {
   "cell_type": "code",
   "execution_count": 2,
   "metadata": {},
   "outputs": [],
   "source": [
    "df = pd.read_json('C:/Users/lamersws1/Documents/Data/firstdata.json')"
   ]
  },
  {
   "cell_type": "code",
   "execution_count": 3,
   "metadata": {},
   "outputs": [
    {
     "data": {
      "text/html": [
       "<div>\n",
       "<style scoped>\n",
       "    .dataframe tbody tr th:only-of-type {\n",
       "        vertical-align: middle;\n",
       "    }\n",
       "\n",
       "    .dataframe tbody tr th {\n",
       "        vertical-align: top;\n",
       "    }\n",
       "\n",
       "    .dataframe thead th {\n",
       "        text-align: right;\n",
       "    }\n",
       "</style>\n",
       "<table border=\"1\" class=\"dataframe\">\n",
       "  <thead>\n",
       "    <tr style=\"text-align: right;\">\n",
       "      <th></th>\n",
       "      <th>index</th>\n",
       "      <th>coordinates</th>\n",
       "      <th>created_at</th>\n",
       "      <th>user</th>\n",
       "      <th>timestamp_ms</th>\n",
       "      <th>text</th>\n",
       "      <th>retweet_count</th>\n",
       "      <th>retweeted_status</th>\n",
       "      <th>reply_count</th>\n",
       "      <th>entities</th>\n",
       "    </tr>\n",
       "  </thead>\n",
       "  <tbody>\n",
       "    <tr>\n",
       "      <th>0</th>\n",
       "      <td>0</td>\n",
       "      <td>None</td>\n",
       "      <td>2018-05-25 15:03:49</td>\n",
       "      <td>{'id': 2516920201, 'id_str': '2516920201', 'na...</td>\n",
       "      <td>2018-05-25 15:03:49.562</td>\n",
       "      <td>??? https://t.co/es4daoZHSf</td>\n",
       "      <td>0.0</td>\n",
       "      <td>None</td>\n",
       "      <td>0.0</td>\n",
       "      <td>{'hashtags': [], 'urls': [{'url': 'https://t.c...</td>\n",
       "    </tr>\n",
       "    <tr>\n",
       "      <th>1</th>\n",
       "      <td>1</td>\n",
       "      <td>None</td>\n",
       "      <td>2018-05-25 15:03:53</td>\n",
       "      <td>{'id': 2682920203, 'id_str': '2682920203', 'na...</td>\n",
       "      <td>2018-05-25 15:03:53.259</td>\n",
       "      <td>#Hipismo Chuvi jimenez también es hipismo y ya...</td>\n",
       "      <td>0.0</td>\n",
       "      <td>None</td>\n",
       "      <td>0.0</td>\n",
       "      <td>{'hashtags': [{'text': 'Hipismo', 'indices': [...</td>\n",
       "    </tr>\n",
       "    <tr>\n",
       "      <th>10</th>\n",
       "      <td>10</td>\n",
       "      <td>None</td>\n",
       "      <td>2018-05-25 15:04:04</td>\n",
       "      <td>{'id': 734197130, 'id_str': '734197130', 'name...</td>\n",
       "      <td>2018-05-25 15:04:04.847</td>\n",
       "      <td>@AaronHawryluk @elonmusk You didn't even let h...</td>\n",
       "      <td>0.0</td>\n",
       "      <td>None</td>\n",
       "      <td>0.0</td>\n",
       "      <td>{'hashtags': [], 'urls': [{'url': 'https://t.c...</td>\n",
       "    </tr>\n",
       "    <tr>\n",
       "      <th>100</th>\n",
       "      <td>100</td>\n",
       "      <td>None</td>\n",
       "      <td>2018-05-25 15:08:26</td>\n",
       "      <td>{'id': 387019950, 'id_str': '387019950', 'name...</td>\n",
       "      <td>2018-05-25 15:08:26.309</td>\n",
       "      <td>RT @EYFrance: C’est parti pour le talk sur le ...</td>\n",
       "      <td>0.0</td>\n",
       "      <td>{'created_at': 'Fri May 25 13:47:53 +0000 2018...</td>\n",
       "      <td>0.0</td>\n",
       "      <td>{'hashtags': [{'text': 'VivaTech', 'indices': ...</td>\n",
       "    </tr>\n",
       "    <tr>\n",
       "      <th>1000</th>\n",
       "      <td>1000</td>\n",
       "      <td>None</td>\n",
       "      <td>2018-05-25 15:46:24</td>\n",
       "      <td>{'id': 1004141089, 'id_str': '1004141089', 'na...</td>\n",
       "      <td>2018-05-25 15:46:24.481</td>\n",
       "      <td>The New Frontier of Fundraising: An Insider’s ...</td>\n",
       "      <td>0.0</td>\n",
       "      <td>None</td>\n",
       "      <td>0.0</td>\n",
       "      <td>{'hashtags': [{'text': 'fundraising', 'indices...</td>\n",
       "    </tr>\n",
       "  </tbody>\n",
       "</table>\n",
       "</div>"
      ],
      "text/plain": [
       "      index                        ...                                                                   entities\n",
       "0         0                        ...                          {'hashtags': [], 'urls': [{'url': 'https://t.c...\n",
       "1         1                        ...                          {'hashtags': [{'text': 'Hipismo', 'indices': [...\n",
       "10       10                        ...                          {'hashtags': [], 'urls': [{'url': 'https://t.c...\n",
       "100     100                        ...                          {'hashtags': [{'text': 'VivaTech', 'indices': ...\n",
       "1000   1000                        ...                          {'hashtags': [{'text': 'fundraising', 'indices...\n",
       "\n",
       "[5 rows x 10 columns]"
      ]
     },
     "execution_count": 3,
     "metadata": {},
     "output_type": "execute_result"
    }
   ],
   "source": [
    "df.head()"
   ]
  },
  {
   "cell_type": "markdown",
   "metadata": {},
   "source": [
    "Explore available collumns"
   ]
  },
  {
   "cell_type": "code",
   "execution_count": 4,
   "metadata": {},
   "outputs": [
    {
     "data": {
      "text/plain": [
       "['index',\n",
       " 'coordinates',\n",
       " 'created_at',\n",
       " 'user',\n",
       " 'timestamp_ms',\n",
       " 'text',\n",
       " 'retweet_count',\n",
       " 'retweeted_status',\n",
       " 'reply_count',\n",
       " 'entities']"
      ]
     },
     "execution_count": 4,
     "metadata": {},
     "output_type": "execute_result"
    }
   ],
   "source": [
    "list(df)"
   ]
  },
  {
   "cell_type": "code",
   "execution_count": 5,
   "metadata": {
    "scrolled": true
   },
   "outputs": [
    {
     "data": {
      "text/html": [
       "<div>\n",
       "<style scoped>\n",
       "    .dataframe tbody tr th:only-of-type {\n",
       "        vertical-align: middle;\n",
       "    }\n",
       "\n",
       "    .dataframe tbody tr th {\n",
       "        vertical-align: top;\n",
       "    }\n",
       "\n",
       "    .dataframe thead th {\n",
       "        text-align: right;\n",
       "    }\n",
       "</style>\n",
       "<table border=\"1\" class=\"dataframe\">\n",
       "  <thead>\n",
       "    <tr style=\"text-align: right;\">\n",
       "      <th></th>\n",
       "      <th>index</th>\n",
       "      <th>retweet_count</th>\n",
       "      <th>reply_count</th>\n",
       "    </tr>\n",
       "  </thead>\n",
       "  <tbody>\n",
       "    <tr>\n",
       "      <th>count</th>\n",
       "      <td>150000.000000</td>\n",
       "      <td>149999.0</td>\n",
       "      <td>149999.0</td>\n",
       "    </tr>\n",
       "    <tr>\n",
       "      <th>mean</th>\n",
       "      <td>4999.500000</td>\n",
       "      <td>0.0</td>\n",
       "      <td>0.0</td>\n",
       "    </tr>\n",
       "    <tr>\n",
       "      <th>std</th>\n",
       "      <td>2886.760954</td>\n",
       "      <td>0.0</td>\n",
       "      <td>0.0</td>\n",
       "    </tr>\n",
       "    <tr>\n",
       "      <th>min</th>\n",
       "      <td>0.000000</td>\n",
       "      <td>0.0</td>\n",
       "      <td>0.0</td>\n",
       "    </tr>\n",
       "    <tr>\n",
       "      <th>25%</th>\n",
       "      <td>2499.750000</td>\n",
       "      <td>0.0</td>\n",
       "      <td>0.0</td>\n",
       "    </tr>\n",
       "    <tr>\n",
       "      <th>50%</th>\n",
       "      <td>4999.500000</td>\n",
       "      <td>0.0</td>\n",
       "      <td>0.0</td>\n",
       "    </tr>\n",
       "    <tr>\n",
       "      <th>75%</th>\n",
       "      <td>7499.250000</td>\n",
       "      <td>0.0</td>\n",
       "      <td>0.0</td>\n",
       "    </tr>\n",
       "    <tr>\n",
       "      <th>max</th>\n",
       "      <td>9999.000000</td>\n",
       "      <td>0.0</td>\n",
       "      <td>0.0</td>\n",
       "    </tr>\n",
       "  </tbody>\n",
       "</table>\n",
       "</div>"
      ],
      "text/plain": [
       "               index  retweet_count  reply_count\n",
       "count  150000.000000       149999.0     149999.0\n",
       "mean     4999.500000            0.0          0.0\n",
       "std      2886.760954            0.0          0.0\n",
       "min         0.000000            0.0          0.0\n",
       "25%      2499.750000            0.0          0.0\n",
       "50%      4999.500000            0.0          0.0\n",
       "75%      7499.250000            0.0          0.0\n",
       "max      9999.000000            0.0          0.0"
      ]
     },
     "execution_count": 5,
     "metadata": {},
     "output_type": "execute_result"
    }
   ],
   "source": [
    "df.describe()"
   ]
  },
  {
   "cell_type": "code",
   "execution_count": null,
   "metadata": {},
   "outputs": [],
   "source": []
  },
  {
   "cell_type": "markdown",
   "metadata": {},
   "source": [
    "Let's look at hashtags"
   ]
  },
  {
   "cell_type": "code",
   "execution_count": 6,
   "metadata": {},
   "outputs": [
    {
     "data": {
      "text/html": [
       "<div>\n",
       "<style scoped>\n",
       "    .dataframe tbody tr th:only-of-type {\n",
       "        vertical-align: middle;\n",
       "    }\n",
       "\n",
       "    .dataframe tbody tr th {\n",
       "        vertical-align: top;\n",
       "    }\n",
       "\n",
       "    .dataframe thead th {\n",
       "        text-align: right;\n",
       "    }\n",
       "</style>\n",
       "<table border=\"1\" class=\"dataframe\">\n",
       "  <thead>\n",
       "    <tr style=\"text-align: right;\">\n",
       "      <th></th>\n",
       "      <th>index</th>\n",
       "      <th>coordinates</th>\n",
       "      <th>created_at</th>\n",
       "      <th>user</th>\n",
       "      <th>timestamp_ms</th>\n",
       "      <th>text</th>\n",
       "      <th>retweet_count</th>\n",
       "      <th>retweeted_status</th>\n",
       "      <th>reply_count</th>\n",
       "      <th>entities</th>\n",
       "    </tr>\n",
       "  </thead>\n",
       "  <tbody>\n",
       "    <tr>\n",
       "      <th>3758</th>\n",
       "      <td>3758</td>\n",
       "      <td>None</td>\n",
       "      <td>NaT</td>\n",
       "      <td>None</td>\n",
       "      <td>NaT</td>\n",
       "      <td>None</td>\n",
       "      <td>NaN</td>\n",
       "      <td>None</td>\n",
       "      <td>NaN</td>\n",
       "      <td>None</td>\n",
       "    </tr>\n",
       "  </tbody>\n",
       "</table>\n",
       "</div>"
      ],
      "text/plain": [
       "      index coordinates   ...    reply_count entities\n",
       "3758   3758        None   ...            NaN     None\n",
       "\n",
       "[1 rows x 10 columns]"
      ]
     },
     "execution_count": 6,
     "metadata": {},
     "output_type": "execute_result"
    }
   ],
   "source": [
    "df[df['entities'].isnull()]"
   ]
  },
  {
   "cell_type": "markdown",
   "metadata": {},
   "source": [
    "Remove this useless record from the data"
   ]
  },
  {
   "cell_type": "code",
   "execution_count": 7,
   "metadata": {},
   "outputs": [],
   "source": [
    "df = df[df['entities'].isnull() == False]"
   ]
  },
  {
   "cell_type": "markdown",
   "metadata": {},
   "source": [
    "Let's look at the mentions network"
   ]
  },
  {
   "cell_type": "code",
   "execution_count": 8,
   "metadata": {},
   "outputs": [],
   "source": [
    "def extract_mentions(df):\n",
    "\n",
    "    out = []\n",
    "\n",
    "    for index, row in df.iterrows():\n",
    "\n",
    "        if isinstance(row.user, dict):\n",
    "        \n",
    "            assert isinstance(row.user, dict), \"user is not dict in {}\".format(index)\n",
    "            assert isinstance(row.entities, dict), \"entities is not dict in {}\".format(index)\n",
    "            usermentions = row.entities['user_mentions']\n",
    "\n",
    "            for u in usermentions:\n",
    "                out.append((row.user['id'], u['id']))\n",
    "    \n",
    "    return out"
   ]
  },
  {
   "cell_type": "code",
   "execution_count": 9,
   "metadata": {},
   "outputs": [],
   "source": [
    "mentions = extract_mentions(df)"
   ]
  },
  {
   "cell_type": "code",
   "execution_count": 10,
   "metadata": {},
   "outputs": [],
   "source": [
    "def extract_users(df):\n",
    "    \n",
    "    users = [(u['id'], u['screen_name'], u['name']) for u in df['user'] if isinstance(u, dict)]\n",
    "    users = list(set(users))\n",
    "    \n",
    "    user_mentions = [u['user_mentions'] for u in df['entities'] if isinstance(u, dict)]\n",
    "    for l in user_mentions:\n",
    "        for u in l:\n",
    "            users.append((u['id'], u['screen_name'], u['name']))\n",
    "        \n",
    "    users = list(set(users))\n",
    "    \n",
    "    users = {u[0]: {'name': u[2], 'screen_name': u[1]} for u in users}\n",
    "    \n",
    "    return users\n"
   ]
  },
  {
   "cell_type": "code",
   "execution_count": 11,
   "metadata": {},
   "outputs": [],
   "source": [
    "users = extract_users(df)"
   ]
  },
  {
   "cell_type": "code",
   "execution_count": 32,
   "metadata": {},
   "outputs": [],
   "source": [
    "#add weights to edges\n",
    "from collections import Counter\n",
    "mentions_w = Counter(mentions)\n",
    "mentions_w = [(e[0], e[1], mentions_w[e]) for e in mentions_w]"
   ]
  },
  {
   "cell_type": "code",
   "execution_count": 33,
   "metadata": {},
   "outputs": [],
   "source": [
    "G=nx.Graph()\n",
    "G.add_weighted_edges_from(mentions_w)\n",
    "nx.set_node_attributes(G, users)"
   ]
  },
  {
   "cell_type": "markdown",
   "metadata": {},
   "source": [
    "Get giant component, discard rest"
   ]
  },
  {
   "cell_type": "code",
   "execution_count": 68,
   "metadata": {},
   "outputs": [],
   "source": [
    "GC = sorted(nx.connected_components(G), key=len, reverse=True)[0]\n",
    "SG = G.subgraph(GC)"
   ]
  },
  {
   "cell_type": "markdown",
   "metadata": {},
   "source": [
    "Get only those nodes with degree > 25, then get giant component of those"
   ]
  },
  {
   "cell_type": "code",
   "execution_count": 69,
   "metadata": {},
   "outputs": [],
   "source": [
    "top_connected_nodes = [x[0] for x in SG.degree() if x[1] >= 10]\n",
    "SG = SG.subgraph(top_connected_nodes)\n",
    "SG = SG.subgraph(sorted(nx.connected_components(SG), key=len, reverse=True)[0])"
   ]
  },
  {
   "cell_type": "code",
   "execution_count": 70,
   "metadata": {},
   "outputs": [
    {
     "data": {
      "text/plain": [
       "2162"
      ]
     },
     "execution_count": 70,
     "metadata": {},
     "output_type": "execute_result"
    }
   ],
   "source": [
    "len(SG.nodes())"
   ]
  },
  {
   "cell_type": "code",
   "execution_count": 71,
   "metadata": {},
   "outputs": [
    {
     "data": {
      "image/png": "[encoded data removed]",
      "text/plain": [
       "<Figure size 432x288 with 1 Axes>"
      ]
     },
     "metadata": {},
     "output_type": "display_data"
    }
   ],
   "source": [
    "nx.draw_networkx(SG)"
   ]
  },
  {
   "cell_type": "code",
   "execution_count": 72,
   "metadata": {},
   "outputs": [
    {
     "data": {
      "text/plain": [
       "NodeView((757300766478663680, 826419253347745792, 741041871393153026, 874191251087572992, 810580889973456897, 736185001457287169, 746107609741131780, 989920160004833283, 966695335887241219, 773671325168697348, 976498021084037125, 822491301484576772, 12, 796573413288591364, 785591712013877250, 131915787, 18022416, 2863996955, 2355240996, 2512683048, 4189511729, 2983206962, 429531188, 35749949, 29392958, 1380180044, 5668942, 29753422, 987365454, 199893073, 393429073, 312426579, 2992259190, 14614648, 49332350, 765651407336771584, 783014727903481856, 705366058757132288, 14237828, 78012548, 18268293, 731264197032546305, 29532294, 743982102803255296, 785547681649266688, 134758540, 32546966, 2194727064, 3331555487, 57761957, 1568186534, 74236071, 500916392, 172621993, 2360426665, 87818409, 13861042, 364945587, 2175647936, 125485258, 19087563, 2338070737, 123855061, 19398874, 115065053, 15933662, 409823, 2753003748, 52592871, 13623532, 29704444, 708768217670361088, 861702441569361920, 935540366752620544, 877616433609318400, 141304070, 916032559498141697, 775001102433394689, 4203553036, 34488596, 173588758, 212123929, 189235485, 256360738, 4735385897, 2229813547, 380617006, 182493489, 275276082, 205824307, 971842262308139008, 502251829, 960958255559258112, 2425151, 255123777, 26796354, 1446420811, 5562702, 15745368, 2916376923, 2935275869, 508461412, 275112294, 634782060, 1006166382, 909681, 147808626, 2423931254, 2347049341, 99836291, 458547594, 16589206, 33980828, 18104734, 15270306, 3871826339, 2574467493, 73482661, 14352807, 3304767912, 2327560616, 152084906, 28082599, 180371886, 14270895, 18055613, 182198721, 25059786, 87744974, 3391799758, 12493262, 2154807762, 501391831, 114549208, 508920282, 499081694, 397689316, 842814927379333120, 785462626574893056, 886269732290265088, 37667306, 14180843, 6070762, 22487542, 819562784191119361, 861685392436641792, 133227009, 924173288409939968, 802032104993210368, 988179568140763136, 905993768624472065, 943678301393928193, 42017290, 702800403, 2704548373, 110985750, 219275799, 263668252, 198517279, 551600672, 267469345, 49971746, 2240258598, 44196397, 2479063608, 5743162, 997220934, 213664329, 1614411, 807322189, 4277617239, 500712026, 3408527962, 106504800, 51241574, 4924367464, 14836336, 135922295, 14344823, 415072889, 33792634, 728175042933182464, 835194759178244096, 4576936579, 735555667965136897, 26616462, 2937520792, 9454232, 574554778, 17539739, 14246556, 14303901, 17629860, 159736488, 5120691, 4820804277, 3013010104, 18129606, 49570504, 7111372, 133423827, 1029071574, 112509659, 127369948, 63873759, 729823, 46654180, 722860459716534272, 824481408697524224, 704715916647358464, 16827148, 206283535, 3948036880, 52544275, 164373270, 28582680, 4493878043, 1228325660, 22168349, 1413563167, 14607140, 222192426, 296280877, 74543, 67978031, 3302114107, 2830254912, 1770311, 18080585, 380863305, 548078410, 22651735, 70878043, 3060671323, 177423199, 26346340, 152052584, 420537199, 2458698614, 3083379578, 833135301455409152, 834458357222240256, 759027937236643840, 786866224881889280, 825757579594854401, 787615073061728257, 61744008, 830908366377611266, 722401302811144194, 4868129679, 549446547, 336208792, 3063915417, 53560219, 15557534, 3169354657, 115991458, 22963112, 13165482, 237413297, 16966580, 20906937, 2455929786, 4784087996, 3023811, 53134290, 56304605, 22758370, 14566379, 531629036, 2894300141, 80528373, 627541001, 536257550, 43172881, 2494186513, 2865849363, 3429827608, 408847389, 1140507684, 211674149, 1154638884, 307807275, 91882544, 1637950514, 2536309816, 6267962, 2704581690, 72344638, 178553919, 415507521, 1427817540, 2301674574, 18916432, 31171669, 36807767, 4572261, 137454693, 2729061, 524354669, 173630577, 181363, 746690249489813504, 946610709886046208, 961339138850066432, 954084844803362816, 950750435882733568, 846014785246367745, 843761398228357121, 989016561955540993, 16434310, 841934187011674112, 745994184193118210, 224912517, 842492697231396867, 368387221, 275686563, 22545571, 144721064, 37700778, 9651372, 3248891052, 2366194867, 3295347892, 15426758, 17925320, 24822993, 19670226, 2932180180, 2440258777, 70345946, 59073766, 915465450, 2497275114, 16598272, 735260235196047360, 822215679726100480, 813957599485796352, 798810763586478080, 797566787810230272, 878192450115731456, 61498632, 41166093, 3071844357, 117777690, 276907293, 437855517, 88892707, 15615271, 94209322, 11134252, 111060272, 75162930, 1057809715, 6186292, 3227338044, 319939901, 3832931652, 14247236, 1365640524, 2150950224, 40011093, 352650591, 122086755, 19203429, 19506537, 16999795, 158295414, 841246135368986624, 718061339411918848, 984515957266755584, 715090264512180224, 975844343234867200, 991322015318585345, 790654887465975808, 988867652805328896, 901397859613978624, 937383730649411585, 965921859568054273, 881483948341243905, 966387281660608512, 865300661805645824, 720622633029644289, 869584758413635586, 856446453157376003, 132449689, 998863355031977985, 3045655968, 1117619618, 84321709, 18777531, 435111357, 207291839, 16786882, 280110533, 708756936, 10454472, 141714889, 41625035, 67323353, 108332510, 428058083, 74286565, 14353898, 32237038, 112944623, 4109985267, 380749300, 330950133, 1339835893, 888245496405344256, 2978661890, 845186475117297665, 871892486, 48219656, 98649626, 4347053606, 3168970281, 1068951084, 14083628, 1585, 9799222, 20596281, 846342931908841472, 298673723, 957370801682042880, 357312062, 83977792, 21653064, 44238413, 452814414, 214173267, 14919253, 240649814, 75556439, 445261401, 1333864027, 893568606, 12273252, 10184292, 49423975, 20571756, 92808825, 14706299, 711600634819170304, 858091685384998912, 952968682157821952, 957234158111215616, 703353482745663488, 980482878193717249, 881961897775517697, 919676453347840001, 704928456514129920, 18089606, 990218923084795905, 3740214921, 910380695410888705, 943123341824675841, 950095434952921090, 958202356843335683, 4496967314, 196134547, 3353061012, 279144084, 2152015511, 206497432, 903628440, 2543994522, 856131595518005253, 886344368914878469, 484796066, 12691112, 875402720643043336, 54265516, 266176177, 12486322, 304162487, 37619391, 390776515, 458647237, 701056711, 417482440, 15460048, 421250770, 20039397, 365070054, 556910314, 34055918, 2935351025, 145286901, 558606074, 2429929219, 4163651333, 85509895, 597313289, 12609292, 1112246036, 413271829, 138536728, 481290010, 1821, 2395318063, 17934129, 1483245362, 216737588, 2351015735, 21956411, 19752773, 2326251343, 18048862, 322553702, 14804841, 259975018, 18270066, 111552374, 756477099309985792, 782756400518852608, 717267477126901760, 765144050748026880, 823558302290341888, 703754312485367809, 705437971277869057, 712230163694678017, 715220723355283457, 790644097958735874, 2369349523, 10438552, 262195111, 1284720552, 114968487, 423847851, 2984847277, 749455278, 3316533172, 3835365303, 365119419, 237348797, 2918328259, 2836421, 2311645130, 733751245, 2426292176, 40601552, 1349830620, 76982240, 2558085090, 125601772, 791758832, 330721266, 757819386, 29534204, 1561757696, 925827012488396800, 1002997262727839744, 939032087239131136, 731753429782036480, 944238115962552320, 449398790, 2224048134, 6129672, 17000457, 922699377554030592, 701625454915026945, 912803014359973889, 66365462, 15984676, 160139307, 565684276, 10297, 14993466, 1565485130, 116385866, 14780493, 154298451, 1087064150, 1978165356, 14862447, 45615218, 533047414, 3197921404, 838688884062097408, 801241407419781120, 734667419055230976, 705539763349164032, 190277762, 760154572627316737, 56191110, 806562102672560128, 792017765544693760, 27986061, 338716815, 20269202, 473958550, 4660013206, 119867548, 424552610, 317655205, 260868264, 1217710249, 40994985, 4431243435, 114911401, 59238573, 1349224627, 377473204, 3819701, 3176908985, 175433916, 6408382, 17230018, 4686170306, 1880582342, 3562121415, 813286, 277858534, 270878954, 35203319, 15976697, 788550658395807744, 772762444947070976, 15976705, 1964009738, 211560733, 17819933, 50325797, 27093292, 44591412, 1164257592, 11348282, 3825101117, 2215168321, 797583686, 4013893991, 18549100, 14174572, 3837135214, 24398192, 838406501320568832, 390326660, 4519799173, 837291039786479617, 381725074, 3003591065, 39176606, 1286441377, 15534499, 1436322212, 3272272291, 557468072, 772520, 2992032177, 88697269, 2174855607, 1729006020, 30058950, 2874239439, 3021777360, 3344116179, 384879060, 633162203, 15813086, 44067298, 18164207, 2806000111, 191203835, 800518735106752512, 299543042, 933050026774839296, 973904760095981568, 943677262917877761, 109316621, 2427546132, 3395947041, 1692248610, 3839756833, 14109218, 2422483501, 335039054, 553036368, 186182226, 457984599, 935735632097398784, 957931333002678272, 2279172710, 13830762, 7268972, 74205807, 1551567476, 6326912, 987680955547734016, 819644634595020800, 844325672789168128, 811620710108057600, 988741747240030208, 901602108356644865, 823265003495182336, 850858725942448128, 991690945639960576, 841229935826128896, 969529064326385665, 823209948071022593, 850952858484822017, 1002951962382520321, 972889945709957122, 824181925707468802, 19352207, 34564752, 29944465, 850308546562576387, 15329934, 12012182, 544205463, 319769248, 2161887906, 2778917545, 217393834, 2596989619, 617143, 714418874, 285428413, 40848062, 172255937, 2895440583, 511740616, 6466252, 14985939, 2790935251, 232901331, 10005212, 167193309, 716327654, 28576494, 339061487, 407104245, 46557951, 888266737300365312, 92564226, 827290118415278080, 790627436832579584, 744776302591303680, 771165039331991552, 264743682, 890022946848202753, 761111078201810944, 310897418, 847492633463185410, 28723984, 207809313, 454232867, 122628903, 220826418, 33418037, 8940342, 3167734591, 9104202, 193743691, 129010515, 57379673, 14617444, 324578158, 336218991, 1563560816, 12503922, 163154809, 402295679, 823641783636815872, 972290975258341376, 988310476173045760, 866260681821220864, 994997756661035008, 1907157894, 985918098921451521, 17484680, 23694216, 933168612311003136, 955897908825649154, 950861341488803842, 150621067, 887680503637307393, 1002002415699324929, 331803536, 2785536912, 939221909409067010, 808450839736184836, 458509208, 18279320, 196438937, 273542042, 952133469869666309, 2940677021, 140897183, 784714656, 67103647, 78523300, 190819240, 1337150378, 145599406, 278408122, 2315512764, 1467476928, 311618496, 5737412, 88157129, 16092112, 18246611, 416721882, 2829765604, 3964480498, 4619684853, 167234557, 1114631166, 3104058367, 2218437631, 294120449, 2826505214, 17755145, 360025107, 2280410132, 3663096860, 2742938653, 297987101, 168627231, 3355765815, 297626682, 15559744, 119737413, 1673997384, 345041995, 193915983, 311430228, 150686809, 2573880420, 558369903, 252447857, 5721202, 1286458483, 21695613, 2548616318, 32124032, 845313637812244480, 975548535067348992, 907946548075663360, 945906846715580416, 449588356, 929050108523679745, 966313275192479745, 893767287240626177, 857616766146678785, 910362524738097154, 425118862, 3097111695, 728747154, 257084568, 37956761, 897226646230634501, 87362715, 17575069, 1195322526, 53791901, 915609293377998854, 52423849, 85535913, 613272756, 100330676, 50949312, 64482503, 197201097, 947326166, 101821656, 1976143068, 69971165, 606973150, 4905241822, 25029854, 326511843, 4333022440, 312241384, 621169905, 36269298, 9989362, 15207668, 918809845, 1279634682, 32304381, 1118579966, 978808936970166272, 97758466, 544304386, 943675994438737922, 701385996, 2353605901, 25390350, 67906831, 2564590860, 2362805528, 5541152, 14159148, 57691450, 970748862896865280, 922994551035330560, 22629706, 2359274827, 148073822, 9530722, 28036451, 1156599139, 300010853, 260648293, 1374547314, 15592821, 9571702, 273984889, 851426978066575360, 864126967515426816, 892725999464591360, 877788798687621121, 870847538651443201, 848700682869911553, 887710236651532290, 864130877906989059, 570387863, 4374719908, 118115748, 2925833637, 2513128872, 15003048, 2599005608, 2753220014, 18230705, 52825523, 898239925, 3184471478, 186682805, 16149944, 598232506, 2735246778, 90435017, 525987277, 606342610, 2918059480, 284724697, 599805402, 316583387, 227167715, 16977387, 538455539, 358501875, 26054138, 255340030, 4117081599, 876657971496861696, 963619699157221376, 863265441136885760, 892214142672683008, 870687909837389824, 910170788602429440, 910175660554960896, 3391720966, 20344331, 22703645, 23457312, 288755234, 19017255, 71052842, 3263245867, 13348402, 25456180, 7769652, 95030839, 4289113664, 23621187, 213339721, 194563663, 165793361, 158682709, 916401751, 49491544, 1489776218, 63819362, 20106852, 477113959, 29740652, 63786611, 14397047, 179236473, 588852857, 190713465, 955796550604804096, 967749056507400192, 921376568492150784, 16838276, 237301381, 14118534, 942714425261412352, 972982493120024576, 936433304584310784, 928996263957352448, 1000739286206107649, 339750542, 415534736, 329649811, 13020822, 2900471446, 912391848303513606, 562466465, 992547386047320071, 14077609, 4760694445, 91180720, 32878258, 1260859058, 1175221, 234327736, 782010, 102272704, 5697222, 26603208, 2325262026, 297316043, 195555022, 25235151, 295218901, 1377029846, 4034271, 17018594, 78687973, 3427675883, 289345259, 101895924, 4132925174, 10194682, 203558650, 959947524424458240, 990708696610103296, 992906813057130497, 53382919, 1280208648, 165752583, 9481992, 2835451658, 1051053836, 4444638988, 34713362, 24645398, 364547862, 1605693206, 215035672, 906011218854404101, 256487198, 1068831, 14274336, 161419043, 31035182, 3327340341, 248131395, 537407304, 281464648, 878668602542522368, 2204962638, 263016272, 15159124, 611110747, 289836894, 17117024, 809974521746911232, 970779789459156992, 891631711783710720, 69545844, 28872567, 948278906758590465, 2154663805, 383274882, 704769925, 15282064, 14602130, 6705042, 3006148503, 32927643, 33025954, 14249894, 24801194, 7573442, 32976838, 467513287, 823439310, 6721492, 36823, 2799996893, 1876660194, 36958179, 587403237, 25669608, 177950702, 2767843313, 460451827, 1374081012, 1171279868, 755607815121735680, 912130256500412417, 827985876198232065, 819571243489824769, 729987710153330689, 776493591988473857, 739862016114954240, 755732761961435136, 742414550650195968, 770080622127812608, 812555214024740865, 774689518767181828, 510464011, 768928273812246533, 546156558, 993154959800758278, 974093397886726151, 768020780718358530, 125128723, 89165845, 489377813, 18059291, 21352483, 3993546794, 563802166, 3103010871, 6295612, 15634493, 272896062, 268349503, 633385022, 4798009407, 1265037380, 3313037386, 902138383694168064, 241045580, 41177167, 69587025, 25137234, 2938253397, 22122582, 1205891161, 209309794, 296824934, 302329965, 8736882, 752903081621196800, 915807101493972992, 783998212856090624, 103100548, 913187906440663040, 915976368571027457, 920399561272594433, 780572696849420288, 8917142, 386027671, 19230878, 951480480, 1138610336, 278458528, 3178680489, 807095, 3905851578, 5763262, 92991679, 107696329, 624668875, 315265228, 1526345940, 14184671, 1318826208, 16126187, 19198198, 768880727656112128, 327037186, 774218112388440064, 747211322614489088, 761458169386246144, 747807250819981312, 61542667, 2939056399, 2638950678, 3368849687, 409997594, 61583656, 714145610862080000, 11383092, 3941437753, 1674080569, 389681470, 17396038, 3445071, 47960407, 2611786073, 564908382, 234860899, 5435752, 1543672171, 81989997, 30929268, 3228602741, 800272760, 982231296175779840, 974226823612477440, 451776898, 825832497539723264, 919074083559452672, 872535841641345025, 506425732, 907434824859660288, 1173459337, 980820494101262336, 952768567757254658, 935177547234422786, 709109857006137345, 20132239, 88273299, 203977108, 50360725, 71381397, 30273948, 16143105, 55841183, 39129507, 79278502, 250278310, 247689651, 20804020, 341062077, 14053823, 80589255, 3844690378, 44831181, 276918735, 302502358, 14782935, 106074594, 890844439442325504, 515035625, 157438443, 19739126, 717313, 720719717044994048, 720586389503492096, 817166972764962816, 818910970567344128, 814673757956620289, 24990215, 810881967382216704, 1910460937, 818435824920444928, 676363, 302666251, 2142731, 2519044628, 319320598, 21893656, 906367512, 21000730, 179245596, 419402280, 77009449, 335852075, 10228272, 93950513, 38498866, 14086716, 5878332, 13857342, 215659070, 74551872, 196194884, 14627400, 3072832073, 2467844682, 3728511563, 252785226, 1265799762, 168735316, 19837528, 21287515, 67080797, 823905, 253293158, 19812968, 408048239, 2982408819, 1343132275, 299651701, 815440083192926208, 18354822, 2807681672, 2711212681, 299659914, 707019229241823234, 253702794, 24728209, 480875170, 978604706, 606663340, 16978606, 58487472, 463073973, 45511355, 2911040189, 99922623, 137999043, 15741636, 35189444, 3072905932, 4502885068, 4816, 1144050390, 1400943320, 145257180, 3011367648, 322237153, 315994858, 76993267, 783092, 204010235, 774909, 725351574738984960, 738729987050725376, 827646768691175424, 756956939746172928, 776769030015311872, 2809959174, 668423, 808932103, 788915123012395008, 723918382924455937, 783068362213580801, 161157900, 174379786, 742317637762441219, 3081712403, 842398676714676228, 27955989, 2908107542, 95195928, 57742106, 1201951519, 323867425, 110244676, 515846981, 188379991, 419951447, 241079136, 23090019, 38187876, 68850533, 15668072, 22279019, 783214, 17126255, 14193522, 71504758, 1676151, 22197119, 823814723061706752, 702542867227504640, 811972460560019456, 792957828, 822215673812119553, 1518334855, 2198279047, 3019961223, 24482703, 172880784, 3034665874, 165262228, 11744152, 147518360, 437990297, 2288653218, 1692581, 165933992, 54850487, 593425336, 248886205, 2205307848, 2256524241, 2563838934, 4773336023, 421852120, 509039584, 24417259, 51049452, 393024497, 266400754, 3659158516, 3068007413, 284513272, 3345331197, 790578639997927424, 780989428693106688, 840405578090446848, 801144681954443264, 798446738583486464, 44553220, 725092794818265089, 773561146792116225, 419927046, 22975495, 19346439, 68449292, 381907986, 43480094, 275305515, 816178, 495408179, 360019007, 163943492, 21189705, 3074470992, 29460483, 430306392, 108672088, 15373404, 16036960, 22246509, 9475182, 21640307, 787887222, 780536204848566272, 794723912189775872, 822317350129012736, 6108292, 780574839388016640, 9172102, 730509234614341633, 2905330823, 1385542790, 1297314954, 2201220235, 1141027980, 2253206665, 183096466, 19526809, 768986551317585920, 770490229769789440, 2307675307, 19485870, 13486, 369038524, 296465599, 123933889, 2547512516, 2446398668, 9696462, 1389781, 299562197, 329692375, 22844639, 122025193, 17896683, 562009327, 1643500784, 867702012, 795774693944852480, 789090073383796736, 781688362339926016, 2835969289, 15979784, 789067016, 18994444, 250352909, 55252238, 2385515792, 34305312, 319124772, 1566463268, 317642024, 471741741, 252024110, 17405232, 23622967, 252204344, 14267706, 609146175, 37721424, 49698134, 115660120, 3236271451, 3922318691, 15234407, 64017773, 2500425074, 772092555613745152, 704476690139885568, 554841474, 994520133849710592, 749539262903746560, 751072679390740480, 981031334201131008, 890226606509260800, 874673546, 710123736175783938, 790959377196908544, 704789955478945792, 14800270, 1095841166, 2217194899, 151598487, 4716205469, 42653087, 55236002, 2303948198, 3468137895, 2815325614, 17888709, 21747145, 685513, 3224696267, 389920204, 4263007693, 315028941, 298038734, 3184883153, 759251, 5469652, 2364610009, 2973406683, 15447522, 3310089706, 2815096300, 528020973, 3314849262, 16012783, 4197381615, 62963, 2293003765, 2152644606, 702341203078070272, 534255106, 14128641, 724752040057028608, 2330367498, 23795212, 816653, 6649362, 1447949844, 278951445, 3283219994, 2809763354, 14620190, 14095905, 882259496, 833071, 95270448, 876768522164162560, 990186506886238208, 877609555387142144, 991724656821456896, 2769925698, 1286116932, 874755661, 355989081, 35927650, 212325987, 122353251, 14620262, 3931240040, 60937837, 299071087, 20182642, 14767730, 9533042, 68359798, 14186105, 15521401, 114857598, 14292607, 45700736, 973897363491180544, 869794196294520832, 999308245687652352, 842956176958476289, 988866574927843330, 989758265562025986, 2409068172, 22042254, 15406736, 608523926, 20534938, 45553317, 15783589, 4151621297, 2491487924, 2775430839, 31610556, 16717501, 2250929858, 3231061699, 3673290436, 92026573, 14563023, 16684753, 1594644193, 192354019, 1110890216, 162617064, 14964459, 434517745, 3028039409, 1257158389, 1703007992, 193566462, 9737982, 1606031102, 941998609846951936, 992984248989704192, 915278526617673728, 708236539353030656, 994426773474566144, 719098026434945025, 940651238529622017, 998223834250665984, 2194724617, 319043335, 972288404259004418, 3399366412, 1980171, 403871494, 1543345928, 180565776, 388405009, 1380816649, 42678029, 990693691860901893, 710522146246811653, 1449670430, 3318650669, 2453575469, 43489069, 145348404, 2215884597, 1652541, 3251759104, 73717571, 1842034500, 1056716616, 189536075, 2179282766, 2771588954, 158701404, 5117791, 17905508, 550418276, 2894583657, 328415084, 15980397, 50722668, 19478383, 318068592, 293418869, 2531006329, 958275033633189888, 947752259038801920, 982304783523442688, 910166565110214656, 965386029287927808, 926896072110174208, 70088590, 138966937, 3277698972, 2801407904, 3248125858, 18519972, 14727078, 3256506280, 8705962, 10876852, 33519541, 2374416325, 14260167, 423270362, 370087899, 14325738, 1953650670, 2823288822, 2172672001, 731833182279106560, 14137346, 819617349754093568, 827557198091976704, 48699398, 2737534982, 825490743166898176, 735958257416732676, 89610282, 290576429, 15783986, 3243333688, 2589792314, 22812734, 92248134, 281524304, 1552201812, 175233109, 1823987821, 102602862, 1439946865, 26155124, 40925304, 174282884, 800161175270920193, 57743497, 262641807, 3600750743, 430192796, 45036289, 17184930, 1075460258, 575658149, 3279394999, 90863805, 929712085457625088, 985187916057075712, 79919298, 33315010, 2292889800, 38885578, 611489995, 17365199, 45065607, 25073877, 244013273, 259447010, 152352998, 18839785, 13334762, 1710618860, 39344374, 23542011, 1546656000, 209811713, 715101172735090688, 29964546, 17013002, 45529357, 3301947667, 119372054, 2845047062, 19274006, 224393497, 3010205982, 308500785, 809273, 144611647, 343447873, 14727503, 145045845, 7403862, 354507097, 1333467482, 5159271, 127932782, 19921268, 18274684, 157702526, 773242429424087040, 475289985, 995991003763912704, 2898606468, 757270831600840704, 763459059789934592, 956517780928409602, 50141592, 163101081, 270252442, 158751132, 280713630, 1427913121, 836042147774234624, 24787367, 72103, 20347305, 2321177005, 492009914, 37296570, 228342202, 251918778, 49772991, 41613761, 40720843, 72030668, 16857553, 3407124952, 17406428, 67271133, 14813, 106682853, 131791334, 814037480, 18610666, 423000563, 72915446, 836911639693836288, 752133, 27064840, 480049675, 2306546191, 813333008, 307460630, 18029079, 457095704, 26565146, 42039840, 7404072, 2436389418, 571202103, 29415991, 421845565, 2888702530, 161667651, 6486602, 578206288, 225303122, 374184532, 957106636832854016, 875882643614814208, 969236513459490816, 962933299592253440, 2823248477, 846884680939032576, 900631397014130688, 91478624, 84974194, 846703849897414657, 9427572, 3670497915, 764277346102759424, 781608889515069440, 832672455680413696, 827804009469661185, 779243812010938369, 2329418378, 4854332050, 2167077523, 1408449174, 2960202399, 22911650, 1073388199, 12819112, 1229453994, 2834684587, 81664684, 1511340720, 434576050, 19380916, 57678517, 272005814, 4134255287, 317356725, 3191421627, 2457320125, 14711491, 3291617988, 39631557, 138173132, 2906847960, 5733082, 18922205, 66116319, 14260960, 99613407, 557996780, 390167291, 1952365308, 3131243261, 888863436691693568, 879941099103674368, 879548970082721792, 905392584180326400, 889735972279246848, 879906207192014849, 2513671, 904818275888095233, 17685258, 865263950182703106, 2450152206, 361880334, 1934244626, 2480951, 1006391, 28711740, 24738621, 2659547965, 2346736446, 28785486, 544791374, 198900558, 21666641, 2297338710, 18873177, 20536157, 1325112157, 17791840, 21625700, 2402098026, 2278865772, 376626032, 51174261, 145980277, 825117123936612353, 2463677318, 686993, 277920665, 2864536473, 50518937, 2467986333, 412138401, 3130932136, 321575853, 20167623, 17071048, 90954701, 30243790, 28474317, 2483952595, 20757469, 1446296545, 1078868970, 19758072, 219995134, 768096142139817984, 851733589591031808, 900101796974264320, 752951095983570944, 618372100, 878247600096509952, 855468487959085056, 819185162546282496, 765981595383857152, 784380301443301376, 852364788722270209, 903549244669394945, 849735698349522945, 863083003081359362, 874424446064492545, 846773744265822210, 888794609509433347, 808105990579257349, 16333852, 2417630238, 2849373215, 14564385, 1654119458, 178494505, 944280074257338368, 19405874, 1361722422, 2934717504, 2444229696, 2282953796, 5676102, 18144328, 2980633674, 31947851, 12524622, 2534669390, 2538749008, 147938389, 3171712086, 14498904, 15453, 110845028, 1528208486, 567360618, 2332179570, 2324708472, 2903825531, 542366845, 1710316669, 15744134, 14285961, 23043211, 976801239290621952, 14851222, 7617702, 9624742, 3364396215, 926702778, 14998722, 2887810253, 17759437, 3018841323, 556162290, 27802872, 868395168688480256, 880570939779555328, 867947619661881344, 274308358, 544734471, 887385484489629697, 459275531, 272276748, 867599868377931778, 310009099, 64462097, 563977493, 5029141, 16186656, 396451105, 324238624, 19021096, 3121151275, 190520633, 3086540090, 94133565, 485178702, 293584209, 132611411, 503487830, 4894850391, 3820748125, 458448226, 68672869, 257244522, 3235994992, 14916980, 375668090, 1176829309, 470965642, 19021197, 254107028, 2684632476, 446643618, 371588520, 1551015338, 3015957931, 66780587, 14425522, 555031989, 14294455, 1641471421, 1400397246, 83254721, 87211457, 14572996, 111041991, 4527152596, 2217975254, 1367531, 899898859, 208584178, 194510325, 37494271, 72998401, 961445378, 2496634369, 60767749, 24600073, 14335498, 27295244, 20659731, 3420749333, 16973333, 1223556631, 1709973019, 4311670299, 129064482, 2542755362, 192986664, 64192042, 60644920, 82755130, 15531582, 263044687, 22756947, 50773591, 17694306, 622960227, 14335586, 2938142309, 17899109, 42016359, 243342953, 17874544, 1000510961059483648, 897297730963361793, 2261630598, 404946566, 1002166254986186753, 2353798794, 40713876, 43949721, 16318114, 4748574370, 14171812, 104832675, 76693160, 316907205, 409116367, 68443858, 21561061, 3647241974, 292929271, 19103481, 978123354636017664, 968909678947328000, 14638851, 993787289422782464, 7429892, 945689156172374016, 48903, 938606626017370112, 937342499093471232, 974671629367369728, 843995859763322882, 88776463, 14860052, 58007320, 321093403, 15515420, 1160748828, 352976670, 211263268, 14860076, 77487918, 3622330161, 46735154, 257842996, 25493304, 2671755071, 60514114, 11099982, 74432340, 72843097, 1350639451, 46620508, 362585949, 3403980640, 4455481185, 811992093904302080, 2901835620, 2523447146, 906043244, 820674420, 33521530, 884578187392544769, 413532028, 48054141, 3071516547, 1209499525, 16629639, 122363790, 3308969873, 2237808535, 2465431458, 1851301, 130596773, 44203943, 370343849, 193453994, 91504564, 226262965, 3759169475, 4435320803, 281173989, 2499289070, 858849264, 1676935166))"
      ]
     },
     "execution_count": 72,
     "metadata": {},
     "output_type": "execute_result"
    }
   ],
   "source": [
    "SG.nodes"
   ]
  },
  {
   "cell_type": "code",
   "execution_count": 73,
   "metadata": {},
   "outputs": [],
   "source": [
    "relabeldict = {key: val['screen_name'] for key, val in users.items()}"
   ]
  },
  {
   "cell_type": "code",
   "execution_count": 74,
   "metadata": {},
   "outputs": [],
   "source": [
    "nx.write_graphml(nx.relabel_nodes(SG, relabeldict),'mentions_network.graphml')"
   ]
  },
  {
   "cell_type": "code",
   "execution_count": null,
   "metadata": {},
   "outputs": [],
   "source": []
  },
  {
   "cell_type": "code",
   "execution_count": null,
   "metadata": {},
   "outputs": [],
   "source": []
  }
 ],
 "metadata": {
  "kernelspec": {
   "display_name": "Python 3 (Spyder)",
   "language": "python3",
   "name": "python3"
  },
  "language_info": {
   "codemirror_mode": {
    "name": "ipython",
    "version": 3
   },
   "file_extension": ".py",
   "mimetype": "text/x-python",
   "name": "python",
   "nbconvert_exporter": "python",
   "pygments_lexer": "ipython3",
   "version": "3.6.7"
  }
 },
 "nbformat": 4,
 "nbformat_minor": 2
}
